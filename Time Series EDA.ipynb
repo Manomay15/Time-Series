{
 "cells": [
  {
   "cell_type": "code",
   "execution_count": 1,
   "id": "75437295",
   "metadata": {},
   "outputs": [],
   "source": [
    "import pandas_datareader as pdr\n",
    "import pandas as pd\n",
    "from datetime import datetime"
   ]
  },
  {
   "cell_type": "code",
   "execution_count": 2,
   "id": "f6233fae",
   "metadata": {},
   "outputs": [],
   "source": [
    "df_google = pdr.get_data_yahoo('GOOGL')"
   ]
  },
  {
   "cell_type": "code",
   "execution_count": 3,
   "id": "a09d4ac0",
   "metadata": {},
   "outputs": [
    {
     "data": {
      "text/html": [
       "<div>\n",
       "<style scoped>\n",
       "    .dataframe tbody tr th:only-of-type {\n",
       "        vertical-align: middle;\n",
       "    }\n",
       "\n",
       "    .dataframe tbody tr th {\n",
       "        vertical-align: top;\n",
       "    }\n",
       "\n",
       "    .dataframe thead th {\n",
       "        text-align: right;\n",
       "    }\n",
       "</style>\n",
       "<table border=\"1\" class=\"dataframe\">\n",
       "  <thead>\n",
       "    <tr style=\"text-align: right;\">\n",
       "      <th></th>\n",
       "      <th>High</th>\n",
       "      <th>Low</th>\n",
       "      <th>Open</th>\n",
       "      <th>Close</th>\n",
       "      <th>Volume</th>\n",
       "      <th>Adj Close</th>\n",
       "    </tr>\n",
       "    <tr>\n",
       "      <th>Date</th>\n",
       "      <th></th>\n",
       "      <th></th>\n",
       "      <th></th>\n",
       "      <th></th>\n",
       "      <th></th>\n",
       "      <th></th>\n",
       "    </tr>\n",
       "  </thead>\n",
       "  <tbody>\n",
       "    <tr>\n",
       "      <th>2017-05-30</th>\n",
       "      <td>997.619995</td>\n",
       "      <td>991.359985</td>\n",
       "      <td>992.500000</td>\n",
       "      <td>996.169983</td>\n",
       "      <td>1516200</td>\n",
       "      <td>996.169983</td>\n",
       "    </tr>\n",
       "    <tr>\n",
       "      <th>2017-05-31</th>\n",
       "      <td>999.599976</td>\n",
       "      <td>981.679993</td>\n",
       "      <td>996.210022</td>\n",
       "      <td>987.090027</td>\n",
       "      <td>1724100</td>\n",
       "      <td>987.090027</td>\n",
       "    </tr>\n",
       "    <tr>\n",
       "      <th>2017-06-01</th>\n",
       "      <td>993.140015</td>\n",
       "      <td>981.289978</td>\n",
       "      <td>990.960022</td>\n",
       "      <td>988.289978</td>\n",
       "      <td>1306400</td>\n",
       "      <td>988.289978</td>\n",
       "    </tr>\n",
       "    <tr>\n",
       "      <th>2017-06-02</th>\n",
       "      <td>996.479980</td>\n",
       "      <td>987.070007</td>\n",
       "      <td>988.590027</td>\n",
       "      <td>996.119995</td>\n",
       "      <td>1735500</td>\n",
       "      <td>996.119995</td>\n",
       "    </tr>\n",
       "    <tr>\n",
       "      <th>2017-06-05</th>\n",
       "      <td>1007.400024</td>\n",
       "      <td>995.450012</td>\n",
       "      <td>997.890015</td>\n",
       "      <td>1003.880005</td>\n",
       "      <td>1378900</td>\n",
       "      <td>1003.880005</td>\n",
       "    </tr>\n",
       "  </tbody>\n",
       "</table>\n",
       "</div>"
      ],
      "text/plain": [
       "                   High         Low        Open        Close   Volume  \\\n",
       "Date                                                                    \n",
       "2017-05-30   997.619995  991.359985  992.500000   996.169983  1516200   \n",
       "2017-05-31   999.599976  981.679993  996.210022   987.090027  1724100   \n",
       "2017-06-01   993.140015  981.289978  990.960022   988.289978  1306400   \n",
       "2017-06-02   996.479980  987.070007  988.590027   996.119995  1735500   \n",
       "2017-06-05  1007.400024  995.450012  997.890015  1003.880005  1378900   \n",
       "\n",
       "              Adj Close  \n",
       "Date                     \n",
       "2017-05-30   996.169983  \n",
       "2017-05-31   987.090027  \n",
       "2017-06-01   988.289978  \n",
       "2017-06-02   996.119995  \n",
       "2017-06-05  1003.880005  "
      ]
     },
     "execution_count": 3,
     "metadata": {},
     "output_type": "execute_result"
    }
   ],
   "source": [
    "df_google.head()"
   ]
  },
  {
   "cell_type": "code",
   "execution_count": 4,
   "id": "811ccad6",
   "metadata": {},
   "outputs": [
    {
     "data": {
      "text/plain": [
       "<AxesSubplot:xlabel='Date'>"
      ]
     },
     "execution_count": 4,
     "metadata": {},
     "output_type": "execute_result"
    },
    {
     "data": {
      "image/png": "[encoded data removed]",
      "text/plain": [
       "<Figure size 864x288 with 1 Axes>"
      ]
     },
     "metadata": {
      "needs_background": "light"
     },
     "output_type": "display_data"
    }
   ],
   "source": [
    "df_google['High'].plot(figsize=(12,4), c='red')"
   ]
  },
  {
   "cell_type": "code",
   "execution_count": 15,
   "id": "445aafa7",
   "metadata": {},
   "outputs": [],
   "source": [
    "index = df_google.loc['2017-05-30':'2022-05-27'].index"
   ]
  },
  {
   "cell_type": "code",
   "execution_count": 16,
   "id": "6a5c797d",
   "metadata": {},
   "outputs": [],
   "source": [
    "share_open = df_google.loc['2017-05-30':'2022-05-27']['Open']"
   ]
  },
  {
   "cell_type": "code",
   "execution_count": 17,
   "id": "ad727039",
   "metadata": {},
   "outputs": [
    {
     "data": {
      "text/plain": [
       "Date\n",
       "2017-05-30     992.500000\n",
       "2017-05-31     996.210022\n",
       "2017-06-01     990.960022\n",
       "2017-06-02     988.590027\n",
       "2017-06-05     997.890015\n",
       "                 ...     \n",
       "2022-05-23    2191.750000\n",
       "2022-05-24    2115.439941\n",
       "2022-05-25    2099.709961\n",
       "2022-05-26    2113.540039\n",
       "2022-05-27    2189.659912\n",
       "Name: Open, Length: 1260, dtype: float64"
      ]
     },
     "execution_count": 17,
     "metadata": {},
     "output_type": "execute_result"
    }
   ],
   "source": [
    "share_open"
   ]
  },
  {
   "cell_type": "code",
   "execution_count": 18,
   "id": "9d677b92",
   "metadata": {},
   "outputs": [],
   "source": [
    "import matplotlib.pyplot as plt"
   ]
  },
  {
   "cell_type": "code",
   "execution_count": 19,
   "id": "fd82ca5c",
   "metadata": {},
   "outputs": [
    {
     "data": {
      "text/plain": [
       "[<matplotlib.lines.Line2D at 0x2ec985a22b0>]"
      ]
     },
     "execution_count": 19,
     "metadata": {},
     "output_type": "execute_result"
    },
    {
     "data": {
      "image/png": "[encoded data removed]",
      "text/plain": [
       "<Figure size 432x288 with 1 Axes>"
      ]
     },
     "metadata": {
      "needs_background": "light"
     },
     "output_type": "display_data"
    }
   ],
   "source": [
    "figure, axis = plt.subplots()\n",
    "plt.tight_layout()\n",
    "axis.plot(index, share_open)"
   ]
  },
  {
   "cell_type": "code",
   "execution_count": 20,
   "id": "8509c412",
   "metadata": {},
   "outputs": [
    {
     "name": "stdout",
     "output_type": "stream",
     "text": [
      "<class 'pandas.core.frame.DataFrame'>\n",
      "DatetimeIndex: 1260 entries, 2017-05-30 to 2022-05-27\n",
      "Data columns (total 6 columns):\n",
      " #   Column     Non-Null Count  Dtype  \n",
      "---  ------     --------------  -----  \n",
      " 0   High       1260 non-null   float64\n",
      " 1   Low        1260 non-null   float64\n",
      " 2   Open       1260 non-null   float64\n",
      " 3   Close      1260 non-null   float64\n",
      " 4   Volume     1260 non-null   int64  \n",
      " 5   Adj Close  1260 non-null   float64\n",
      "dtypes: float64(5), int64(1)\n",
      "memory usage: 101.2 KB\n"
     ]
    }
   ],
   "source": [
    "df_google.info()"
   ]
  },
  {
   "cell_type": "code",
   "execution_count": 21,
   "id": "45d0a2a8",
   "metadata": {},
   "outputs": [],
   "source": [
    "df_google = df_google.reset_index()"
   ]
  },
  {
   "cell_type": "code",
   "execution_count": 22,
   "id": "09ebce98",
   "metadata": {},
   "outputs": [
    {
     "name": "stdout",
     "output_type": "stream",
     "text": [
      "<class 'pandas.core.frame.DataFrame'>\n",
      "RangeIndex: 1260 entries, 0 to 1259\n",
      "Data columns (total 7 columns):\n",
      " #   Column     Non-Null Count  Dtype         \n",
      "---  ------     --------------  -----         \n",
      " 0   Date       1260 non-null   datetime64[ns]\n",
      " 1   High       1260 non-null   float64       \n",
      " 2   Low        1260 non-null   float64       \n",
      " 3   Open       1260 non-null   float64       \n",
      " 4   Close      1260 non-null   float64       \n",
      " 5   Volume     1260 non-null   int64         \n",
      " 6   Adj Close  1260 non-null   float64       \n",
      "dtypes: datetime64[ns](1), float64(5), int64(1)\n",
      "memory usage: 69.0 KB\n"
     ]
    }
   ],
   "source": [
    "df_google.info()"
   ]
  },
  {
   "cell_type": "code",
   "execution_count": 23,
   "id": "6566f8d5",
   "metadata": {},
   "outputs": [
    {
     "data": {
      "text/html": [
       "<div>\n",
       "<style scoped>\n",
       "    .dataframe tbody tr th:only-of-type {\n",
       "        vertical-align: middle;\n",
       "    }\n",
       "\n",
       "    .dataframe tbody tr th {\n",
       "        vertical-align: top;\n",
       "    }\n",
       "\n",
       "    .dataframe thead th {\n",
       "        text-align: right;\n",
       "    }\n",
       "</style>\n",
       "<table border=\"1\" class=\"dataframe\">\n",
       "  <thead>\n",
       "    <tr style=\"text-align: right;\">\n",
       "      <th></th>\n",
       "      <th>Date</th>\n",
       "      <th>High</th>\n",
       "      <th>Low</th>\n",
       "      <th>Open</th>\n",
       "      <th>Close</th>\n",
       "      <th>Volume</th>\n",
       "      <th>Adj Close</th>\n",
       "    </tr>\n",
       "  </thead>\n",
       "  <tbody>\n",
       "    <tr>\n",
       "      <th>0</th>\n",
       "      <td>2017-05-30</td>\n",
       "      <td>997.619995</td>\n",
       "      <td>991.359985</td>\n",
       "      <td>992.500000</td>\n",
       "      <td>996.169983</td>\n",
       "      <td>1516200</td>\n",
       "      <td>996.169983</td>\n",
       "    </tr>\n",
       "    <tr>\n",
       "      <th>1</th>\n",
       "      <td>2017-05-31</td>\n",
       "      <td>999.599976</td>\n",
       "      <td>981.679993</td>\n",
       "      <td>996.210022</td>\n",
       "      <td>987.090027</td>\n",
       "      <td>1724100</td>\n",
       "      <td>987.090027</td>\n",
       "    </tr>\n",
       "    <tr>\n",
       "      <th>2</th>\n",
       "      <td>2017-06-01</td>\n",
       "      <td>993.140015</td>\n",
       "      <td>981.289978</td>\n",
       "      <td>990.960022</td>\n",
       "      <td>988.289978</td>\n",
       "      <td>1306400</td>\n",
       "      <td>988.289978</td>\n",
       "    </tr>\n",
       "    <tr>\n",
       "      <th>3</th>\n",
       "      <td>2017-06-02</td>\n",
       "      <td>996.479980</td>\n",
       "      <td>987.070007</td>\n",
       "      <td>988.590027</td>\n",
       "      <td>996.119995</td>\n",
       "      <td>1735500</td>\n",
       "      <td>996.119995</td>\n",
       "    </tr>\n",
       "    <tr>\n",
       "      <th>4</th>\n",
       "      <td>2017-06-05</td>\n",
       "      <td>1007.400024</td>\n",
       "      <td>995.450012</td>\n",
       "      <td>997.890015</td>\n",
       "      <td>1003.880005</td>\n",
       "      <td>1378900</td>\n",
       "      <td>1003.880005</td>\n",
       "    </tr>\n",
       "  </tbody>\n",
       "</table>\n",
       "</div>"
      ],
      "text/plain": [
       "        Date         High         Low        Open        Close   Volume  \\\n",
       "0 2017-05-30   997.619995  991.359985  992.500000   996.169983  1516200   \n",
       "1 2017-05-31   999.599976  981.679993  996.210022   987.090027  1724100   \n",
       "2 2017-06-01   993.140015  981.289978  990.960022   988.289978  1306400   \n",
       "3 2017-06-02   996.479980  987.070007  988.590027   996.119995  1735500   \n",
       "4 2017-06-05  1007.400024  995.450012  997.890015  1003.880005  1378900   \n",
       "\n",
       "     Adj Close  \n",
       "0   996.169983  \n",
       "1   987.090027  \n",
       "2   988.289978  \n",
       "3   996.119995  \n",
       "4  1003.880005  "
      ]
     },
     "execution_count": 23,
     "metadata": {},
     "output_type": "execute_result"
    }
   ],
   "source": [
    "df_google.head()"
   ]
  },
  {
   "cell_type": "code",
   "execution_count": 24,
   "id": "f61c853b",
   "metadata": {},
   "outputs": [],
   "source": [
    "df_google = df_google.set_index('Date')"
   ]
  },
  {
   "cell_type": "code",
   "execution_count": 54,
   "id": "48396e9a",
   "metadata": {},
   "outputs": [
    {
     "data": {
      "text/plain": [
       "datetime.datetime(2022, 5, 27, 22, 36, 45, 193621)"
      ]
     },
     "execution_count": 54,
     "metadata": {},
     "output_type": "execute_result"
    }
   ],
   "source": [
    "datetime.now()"
   ]
  },
  {
   "cell_type": "code",
   "execution_count": 55,
   "id": "20280b25",
   "metadata": {},
   "outputs": [],
   "source": [
    "date = datetime.now()"
   ]
  },
  {
   "cell_type": "code",
   "execution_count": 57,
   "id": "e7cbe8e1",
   "metadata": {},
   "outputs": [
    {
     "data": {
      "text/plain": [
       "2022"
      ]
     },
     "execution_count": 57,
     "metadata": {},
     "output_type": "execute_result"
    }
   ],
   "source": [
    "date.year"
   ]
  },
  {
   "cell_type": "code",
   "execution_count": 67,
   "id": "54967566",
   "metadata": {},
   "outputs": [
    {
     "data": {
      "text/plain": [
       "datetime.time(22, 40, 33, 211217)"
      ]
     },
     "execution_count": 67,
     "metadata": {},
     "output_type": "execute_result"
    }
   ],
   "source": [
    "date.time()"
   ]
  },
  {
   "cell_type": "code",
   "execution_count": 73,
   "id": "864f5279",
   "metadata": {},
   "outputs": [
    {
     "data": {
      "text/html": [
       "<div>\n",
       "<style scoped>\n",
       "    .dataframe tbody tr th:only-of-type {\n",
       "        vertical-align: middle;\n",
       "    }\n",
       "\n",
       "    .dataframe tbody tr th {\n",
       "        vertical-align: top;\n",
       "    }\n",
       "\n",
       "    .dataframe thead th {\n",
       "        text-align: right;\n",
       "    }\n",
       "</style>\n",
       "<table border=\"1\" class=\"dataframe\">\n",
       "  <thead>\n",
       "    <tr style=\"text-align: right;\">\n",
       "      <th></th>\n",
       "      <th>High</th>\n",
       "      <th>Low</th>\n",
       "      <th>Open</th>\n",
       "      <th>Close</th>\n",
       "      <th>Volume</th>\n",
       "      <th>Adj Close</th>\n",
       "    </tr>\n",
       "    <tr>\n",
       "      <th>Date</th>\n",
       "      <th></th>\n",
       "      <th></th>\n",
       "      <th></th>\n",
       "      <th></th>\n",
       "      <th></th>\n",
       "      <th></th>\n",
       "    </tr>\n",
       "  </thead>\n",
       "  <tbody>\n",
       "    <tr>\n",
       "      <th>2017-12-31</th>\n",
       "      <td>928.250000</td>\n",
       "      <td>915.309998</td>\n",
       "      <td>919.950012</td>\n",
       "      <td>919.460022</td>\n",
       "      <td>726900</td>\n",
       "      <td>919.460022</td>\n",
       "    </tr>\n",
       "    <tr>\n",
       "      <th>2018-12-31</th>\n",
       "      <td>1012.119995</td>\n",
       "      <td>977.659973</td>\n",
       "      <td>984.320007</td>\n",
       "      <td>984.669983</td>\n",
       "      <td>708900</td>\n",
       "      <td>984.669983</td>\n",
       "    </tr>\n",
       "    <tr>\n",
       "      <th>2019-12-31</th>\n",
       "      <td>1050.000000</td>\n",
       "      <td>1022.369995</td>\n",
       "      <td>1027.199951</td>\n",
       "      <td>1025.469971</td>\n",
       "      <td>640100</td>\n",
       "      <td>1025.469971</td>\n",
       "    </tr>\n",
       "    <tr>\n",
       "      <th>2020-12-31</th>\n",
       "      <td>1066.910034</td>\n",
       "      <td>1008.869995</td>\n",
       "      <td>1056.369995</td>\n",
       "      <td>1054.130005</td>\n",
       "      <td>465600</td>\n",
       "      <td>1054.130005</td>\n",
       "    </tr>\n",
       "    <tr>\n",
       "      <th>2021-12-31</th>\n",
       "      <td>1743.969971</td>\n",
       "      <td>1696.099976</td>\n",
       "      <td>1700.260010</td>\n",
       "      <td>1722.880005</td>\n",
       "      <td>715100</td>\n",
       "      <td>1722.880005</td>\n",
       "    </tr>\n",
       "    <tr>\n",
       "      <th>2022-12-31</th>\n",
       "      <td>2129.169922</td>\n",
       "      <td>2037.689941</td>\n",
       "      <td>2099.709961</td>\n",
       "      <td>2116.100098</td>\n",
       "      <td>945342</td>\n",
       "      <td>2116.100098</td>\n",
       "    </tr>\n",
       "  </tbody>\n",
       "</table>\n",
       "</div>"
      ],
      "text/plain": [
       "                   High          Low         Open        Close  Volume  \\\n",
       "Date                                                                     \n",
       "2017-12-31   928.250000   915.309998   919.950012   919.460022  726900   \n",
       "2018-12-31  1012.119995   977.659973   984.320007   984.669983  708900   \n",
       "2019-12-31  1050.000000  1022.369995  1027.199951  1025.469971  640100   \n",
       "2020-12-31  1066.910034  1008.869995  1056.369995  1054.130005  465600   \n",
       "2021-12-31  1743.969971  1696.099976  1700.260010  1722.880005  715100   \n",
       "2022-12-31  2129.169922  2037.689941  2099.709961  2116.100098  945342   \n",
       "\n",
       "              Adj Close  \n",
       "Date                     \n",
       "2017-12-31   919.460022  \n",
       "2018-12-31   984.669983  \n",
       "2019-12-31  1025.469971  \n",
       "2020-12-31  1054.130005  \n",
       "2021-12-31  1722.880005  \n",
       "2022-12-31  2116.100098  "
      ]
     },
     "execution_count": 73,
     "metadata": {},
     "output_type": "execute_result"
    }
   ],
   "source": [
    "df_google.resample(rule='A').min()"
   ]
  },
  {
   "cell_type": "code",
   "execution_count": 79,
   "id": "5432798d",
   "metadata": {},
   "outputs": [
    {
     "data": {
      "text/plain": [
       "<AxesSubplot:xlabel='Date'>"
      ]
     },
     "execution_count": 79,
     "metadata": {},
     "output_type": "execute_result"
    },
    {
     "data": {
      "image/png": "[encoded data removed]",
      "text/plain": [
       "<Figure size 432x288 with 1 Axes>"
      ]
     },
     "metadata": {
      "needs_background": "light"
     },
     "output_type": "display_data"
    }
   ],
   "source": [
    "df_google.resample(rule='BA').max()['Open'].plot(kind='bar')"
   ]
  },
  {
   "cell_type": "code",
   "execution_count": 84,
   "id": "811a37a3",
   "metadata": {},
   "outputs": [
    {
     "data": {
      "text/plain": [
       "Date\n",
       "2022-05-23    2301.190967\n",
       "2022-05-24    2281.607959\n",
       "2022-05-25    2261.878955\n",
       "2022-05-26    2250.587964\n",
       "2022-05-27    2239.137964\n",
       "Name: High, dtype: float64"
      ]
     },
     "execution_count": 84,
     "metadata": {},
     "output_type": "execute_result"
    }
   ],
   "source": [
    "df_google['High'].rolling(10).mean().tail()"
   ]
  },
  {
   "cell_type": "code",
   "execution_count": 85,
   "id": "034953e5",
   "metadata": {},
   "outputs": [],
   "source": [
    "df_google['Open: 30 rolling'] = df_google['Open'].rolling(30).mean()"
   ]
  },
  {
   "cell_type": "code",
   "execution_count": 86,
   "id": "4ea1ae07",
   "metadata": {},
   "outputs": [
    {
     "data": {
      "text/html": [
       "<div>\n",
       "<style scoped>\n",
       "    .dataframe tbody tr th:only-of-type {\n",
       "        vertical-align: middle;\n",
       "    }\n",
       "\n",
       "    .dataframe tbody tr th {\n",
       "        vertical-align: top;\n",
       "    }\n",
       "\n",
       "    .dataframe thead th {\n",
       "        text-align: right;\n",
       "    }\n",
       "</style>\n",
       "<table border=\"1\" class=\"dataframe\">\n",
       "  <thead>\n",
       "    <tr style=\"text-align: right;\">\n",
       "      <th></th>\n",
       "      <th>High</th>\n",
       "      <th>Low</th>\n",
       "      <th>Open</th>\n",
       "      <th>Close</th>\n",
       "      <th>Volume</th>\n",
       "      <th>Adj Close</th>\n",
       "      <th>Open: 30 rolling</th>\n",
       "    </tr>\n",
       "    <tr>\n",
       "      <th>Date</th>\n",
       "      <th></th>\n",
       "      <th></th>\n",
       "      <th></th>\n",
       "      <th></th>\n",
       "      <th></th>\n",
       "      <th></th>\n",
       "      <th></th>\n",
       "    </tr>\n",
       "  </thead>\n",
       "  <tbody>\n",
       "    <tr>\n",
       "      <th>2022-05-23</th>\n",
       "      <td>2242.949951</td>\n",
       "      <td>2174.820068</td>\n",
       "      <td>2191.750000</td>\n",
       "      <td>2229.760010</td>\n",
       "      <td>1859200</td>\n",
       "      <td>2229.760010</td>\n",
       "      <td>2387.118001</td>\n",
       "    </tr>\n",
       "    <tr>\n",
       "      <th>2022-05-24</th>\n",
       "      <td>2129.169922</td>\n",
       "      <td>2037.689941</td>\n",
       "      <td>2115.439941</td>\n",
       "      <td>2119.399902</td>\n",
       "      <td>3839000</td>\n",
       "      <td>2119.399902</td>\n",
       "      <td>2369.750334</td>\n",
       "    </tr>\n",
       "    <tr>\n",
       "      <th>2022-05-25</th>\n",
       "      <td>2130.000000</td>\n",
       "      <td>2077.129883</td>\n",
       "      <td>2099.709961</td>\n",
       "      <td>2116.100098</td>\n",
       "      <td>2012900</td>\n",
       "      <td>2116.100098</td>\n",
       "      <td>2352.007332</td>\n",
       "    </tr>\n",
       "    <tr>\n",
       "      <th>2022-05-26</th>\n",
       "      <td>2172.989990</td>\n",
       "      <td>2104.500000</td>\n",
       "      <td>2113.540039</td>\n",
       "      <td>2155.850098</td>\n",
       "      <td>1895500</td>\n",
       "      <td>2155.850098</td>\n",
       "      <td>2337.125334</td>\n",
       "    </tr>\n",
       "    <tr>\n",
       "      <th>2022-05-27</th>\n",
       "      <td>2243.000000</td>\n",
       "      <td>2183.780029</td>\n",
       "      <td>2189.659912</td>\n",
       "      <td>2236.989990</td>\n",
       "      <td>945342</td>\n",
       "      <td>2236.989990</td>\n",
       "      <td>2323.127661</td>\n",
       "    </tr>\n",
       "  </tbody>\n",
       "</table>\n",
       "</div>"
      ],
      "text/plain": [
       "                   High          Low         Open        Close   Volume  \\\n",
       "Date                                                                      \n",
       "2022-05-23  2242.949951  2174.820068  2191.750000  2229.760010  1859200   \n",
       "2022-05-24  2129.169922  2037.689941  2115.439941  2119.399902  3839000   \n",
       "2022-05-25  2130.000000  2077.129883  2099.709961  2116.100098  2012900   \n",
       "2022-05-26  2172.989990  2104.500000  2113.540039  2155.850098  1895500   \n",
       "2022-05-27  2243.000000  2183.780029  2189.659912  2236.989990   945342   \n",
       "\n",
       "              Adj Close  Open: 30 rolling  \n",
       "Date                                       \n",
       "2022-05-23  2229.760010       2387.118001  \n",
       "2022-05-24  2119.399902       2369.750334  \n",
       "2022-05-25  2116.100098       2352.007332  \n",
       "2022-05-26  2155.850098       2337.125334  \n",
       "2022-05-27  2236.989990       2323.127661  "
      ]
     },
     "execution_count": 86,
     "metadata": {},
     "output_type": "execute_result"
    }
   ],
   "source": [
    "df_google.tail()"
   ]
  },
  {
   "cell_type": "code",
   "execution_count": 91,
   "id": "2537f234",
   "metadata": {},
   "outputs": [
    {
     "data": {
      "text/plain": [
       "<AxesSubplot:xlabel='Date'>"
      ]
     },
     "execution_count": 91,
     "metadata": {},
     "output_type": "execute_result"
    },
    {
     "data": {
      "image/png": "[encoded data removed]",
      "text/plain": [
       "<Figure size 1080x432 with 1 Axes>"
      ]
     },
     "metadata": {
      "needs_background": "light"
     },
     "output_type": "display_data"
    }
   ],
   "source": [
    "df_google[['Open', 'Open: 30 rolling']].plot(figsize=(15, 6))"
   ]
  },
  {
   "cell_type": "code",
   "execution_count": null,
   "id": "20056da6",
   "metadata": {},
   "outputs": [],
   "source": []
  }
 ],
 "metadata": {
  "kernelspec": {
   "display_name": "Python 3",
   "language": "python",
   "name": "python3"
  },
  "language_info": {
   "codemirror_mode": {
    "name": "ipython",
    "version": 3
   },
   "file_extension": ".py",
   "mimetype": "text/x-python",
   "name": "python",
   "nbconvert_exporter": "python",
   "pygments_lexer": "ipython3",
   "version": "3.8.8"
  }
 },
 "nbformat": 4,
 "nbformat_minor": 5
}
